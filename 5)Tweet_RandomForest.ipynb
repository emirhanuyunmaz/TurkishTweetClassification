{
 "cells": [
  {
   "cell_type": "code",
   "execution_count": 1,
   "id": "a253b071-02e0-498e-8f84-1f74566e5920",
   "metadata": {},
   "outputs": [],
   "source": [
    "import pandas as pd\n",
    "from sklearn.preprocessing import StandardScaler\n",
    "from sklearn.metrics import confusion_matrix\n",
    "from sklearn.model_selection import train_test_split\n",
    "from sklearn.ensemble import RandomForestClassifier\n",
    "\n",
    "import re\n",
    "import nltk\n",
    "from sklearn.feature_extraction.text import CountVectorizer\n",
    "from nltk.stem.porter import PorterStemmer\n",
    "from sklearn.metrics import accuracy_score\n"
   ]
  },
  {
   "cell_type": "code",
   "execution_count": 2,
   "id": "744a715b-346b-433f-99d0-9b2e5bdad777",
   "metadata": {},
   "outputs": [
    {
     "name": "stderr",
     "output_type": "stream",
     "text": [
      "[nltk_data] Downloading package stopwords to\n",
      "[nltk_data]     C:\\Users\\emirh\\AppData\\Roaming\\nltk_data...\n",
      "[nltk_data]   Package stopwords is already up-to-date!\n"
     ]
    }
   ],
   "source": [
    "durma = nltk.download(\"stopwords\")\n",
    "from nltk.corpus import stopwords"
   ]
  },
  {
   "cell_type": "code",
   "execution_count": 3,
   "id": "b564392f-d83e-419e-ac8c-41a7777dbf9d",
   "metadata": {},
   "outputs": [
    {
     "data": {
      "text/plain": [
       "<bound method NDFrame.head of                                                   Tweet  Etiket\n",
       "0     Allah'ım çıldıracağım. Yemin ederim çıldıracağ...  kızgın\n",
       "1     site ne zaman çalıştıda ürün stokları bitti di...  kızgın\n",
       "2       Sebebi neydi ki diye bağıracağım şimdi az kaldı  kızgın\n",
       "3     Black friday ne amk bu yıl çıkardınız bu bokud...  kızgın\n",
       "4     kısa kısa cevaplar vericeksen niye yazıyorsun ...  kızgın\n",
       "...                                                 ...     ...\n",
       "3994                    Aynı şeyleri yapmaktan sıkıldım   üzgün\n",
       "3995  Olacağı varsa oluyor ya hani, biteceği varsa d...   üzgün\n",
       "3996    Çok şey istiyorum ama sonu hep fiyasko MUTSUZUM   üzgün\n",
       "3997  Garip bir şekilde canım çok yanıyor moralim bozuk   üzgün\n",
       "3998  Üzgünüm birazdan takipten çıkarıp hesabımı giz...   üzgün\n",
       "\n",
       "[3999 rows x 2 columns]>"
      ]
     },
     "execution_count": 3,
     "metadata": {},
     "output_type": "execute_result"
    }
   ],
   "source": [
    "veriler = pd.read_excel(\"TurkishTweets.xlsx\")\n",
    "veriler.head"
   ]
  },
  {
   "cell_type": "code",
   "execution_count": 4,
   "id": "dd388feb-5ef7-4cd6-bab3-2f13fff9ed26",
   "metadata": {},
   "outputs": [
    {
     "data": {
      "text/plain": [
       "'Tuncelide helikopter kazasında kaybettiğimiz şehitlerimize Allahtan rahmet dilerim, Büyük acı Işıklar içinde yatsınlar Başımız sağolsun '"
      ]
     },
     "execution_count": 4,
     "metadata": {},
     "output_type": "execute_result"
    }
   ],
   "source": [
    "veriler[\"Tweet\"][3430] #Deneme verisi"
   ]
  },
  {
   "cell_type": "code",
   "execution_count": 5,
   "id": "a67c6b42-a1be-4b2f-9a6c-76b6afae6c39",
   "metadata": {},
   "outputs": [
    {
     "data": {
      "text/plain": [
       "'tuncelid helikopt kazasında kaybettiğimiz şehitlerim allahtan rahmet dilerim büyük acı işıklar içind yatsınlar başımız sağolsun'"
      ]
     },
     "execution_count": 5,
     "metadata": {},
     "output_type": "execute_result"
    }
   ],
   "source": [
    "#Veriyi düzenleme işlemi\n",
    "yorum = re.sub('[^a-zA-Z0-9ğüşöçıİĞÜŞÖÇ]',' ', veriler[\"Tweet\"][3430])\n",
    "yorum = yorum.lower()\n",
    "yorum = yorum.split()\n",
    "ps = PorterStemmer()\n",
    "yorum = [ps.stem(kelime) for kelime in yorum if not kelime in set(stopwords.words(\"turkish\"))]\n",
    "yorum = ' '.join(yorum)\n",
    "yorum"
   ]
  },
  {
   "cell_type": "code",
   "execution_count": 6,
   "id": "ffdaa491-b98e-4bb6-b792-4dce6ca1e281",
   "metadata": {},
   "outputs": [],
   "source": [
    "#Tüm verileri düzenleme işlemi yapılıyor\n",
    "derlem = []\n",
    "\n",
    "for i in range (3999):\n",
    "    yorum = re.sub('[^a-zA-ZğüşöçıİĞÜŞÖÇ]',' ', veriler[\"Tweet\"][i])\n",
    "    yorum = yorum.lower()\n",
    "    yorum = yorum.split()\n",
    "    ps = PorterStemmer()\n",
    "    yorum = [ps.stem(kelime) for kelime in yorum if not kelime in set(stopwords.words(\"turkish\"))]\n",
    "    yorum = ' '.join(yorum)\n",
    "    # print(i)\n",
    "    derlem.append(yorum)"
   ]
  },
  {
   "cell_type": "code",
   "execution_count": 7,
   "id": "109d9bef-834d-44ce-85fe-df0e6343b47d",
   "metadata": {},
   "outputs": [],
   "source": [
    "#2500 kelimeyi içeren vir vektör oluşruema işlemi.\n",
    "cv = CountVectorizer(max_features=2500)\n",
    "x = cv.fit_transform(derlem).toarray()\n",
    "y = veriler.iloc[:,1].values\n",
    "\n",
    "x_train , x_test , y_train , y_test = train_test_split(x,y,test_size=0.33,random_state=0)"
   ]
  },
  {
   "cell_type": "code",
   "execution_count": 8,
   "id": "0d356e39-17bc-4e3a-a002-1429ea144b71",
   "metadata": {},
   "outputs": [
    {
     "data": {
      "text/plain": [
       "array([[252,   2,   6,   1,   2],\n",
       "       [  2, 268,   3,   0,   5],\n",
       "       [  1,   5, 239,   1,   4],\n",
       "       [  1,   3,   4, 234,   2],\n",
       "       [  2,   7,  20,   1, 255]], dtype=int64)"
      ]
     },
     "execution_count": 8,
     "metadata": {},
     "output_type": "execute_result"
    }
   ],
   "source": [
    "#Modelin eğitimi işlemi\n",
    "rfc = RandomForestClassifier(n_estimators=10,criterion=\"entropy\")\n",
    "rfc.fit(x_train,y_train)\n",
    "\n",
    "y_pred_rfc = rfc.predict(x_test)\n",
    "\n",
    "cm = confusion_matrix(y_test,y_pred_rfc)\n",
    "cm"
   ]
  },
  {
   "cell_type": "code",
   "execution_count": 9,
   "id": "82ac4578-81f6-4559-a40f-d5a5c9689084",
   "metadata": {},
   "outputs": [
    {
     "data": {
      "text/plain": [
       "0.9454545454545454"
      ]
     },
     "execution_count": 9,
     "metadata": {},
     "output_type": "execute_result"
    }
   ],
   "source": [
    "accuracy = accuracy_score(y_test,y_pred_rfc)\n",
    "accuracy"
   ]
  }
 ],
 "metadata": {
  "kernelspec": {
   "display_name": "Python 3 (ipykernel)",
   "language": "python",
   "name": "python3"
  },
  "language_info": {
   "codemirror_mode": {
    "name": "ipython",
    "version": 3
   },
   "file_extension": ".py",
   "mimetype": "text/x-python",
   "name": "python",
   "nbconvert_exporter": "python",
   "pygments_lexer": "ipython3",
   "version": "3.12.4"
  }
 },
 "nbformat": 4,
 "nbformat_minor": 5
}
