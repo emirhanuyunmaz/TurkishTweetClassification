{
 "cells": [
  {
   "cell_type": "code",
   "execution_count": 1,
   "id": "a6ee8508-67b0-4022-ad04-8e929d32f876",
   "metadata": {},
   "outputs": [],
   "source": [
    "import pandas as pd \n",
    "import numpy as np\n",
    "from sklearn.model_selection import train_test_split\n",
    "from sklearn.preprocessing import StandardScaler\n",
    "from sklearn.metrics import confusion_matrix\n",
    "from sklearn.svm import SVC\n",
    "\n",
    "import re\n",
    "import nltk\n",
    "from sklearn.feature_extraction.text import CountVectorizer\n",
    "\n",
    "from nltk.stem.porter import PorterStemmer\n",
    "from sklearn.metrics import accuracy_score\n",
    "\n"
   ]
  },
  {
   "cell_type": "code",
   "execution_count": 2,
   "id": "b7d1a951-9a26-4f2a-8dc5-91e7eb4b3308",
   "metadata": {},
   "outputs": [
    {
     "name": "stderr",
     "output_type": "stream",
     "text": [
      "[nltk_data] Downloading package stopwords to\n",
      "[nltk_data]     C:\\Users\\emirh\\AppData\\Roaming\\nltk_data...\n",
      "[nltk_data]   Package stopwords is already up-to-date!\n"
     ]
    }
   ],
   "source": [
    "durma = nltk.download(\"stopwords\")\n",
    "from nltk.corpus import stopwords"
   ]
  },
  {
   "cell_type": "code",
   "execution_count": 3,
   "id": "c86c6058-4319-4147-9830-e476e49ec162",
   "metadata": {},
   "outputs": [
    {
     "data": {
      "text/plain": [
       "<bound method NDFrame.head of                                                   Tweet  Etiket\n",
       "0     Allah'ım çıldıracağım. Yemin ederim çıldıracağ...  kızgın\n",
       "1     site ne zaman çalıştıda ürün stokları bitti di...  kızgın\n",
       "2       Sebebi neydi ki diye bağıracağım şimdi az kaldı  kızgın\n",
       "3     Black friday ne amk bu yıl çıkardınız bu bokud...  kızgın\n",
       "4     kısa kısa cevaplar vericeksen niye yazıyorsun ...  kızgın\n",
       "...                                                 ...     ...\n",
       "3994                    Aynı şeyleri yapmaktan sıkıldım   üzgün\n",
       "3995  Olacağı varsa oluyor ya hani, biteceği varsa d...   üzgün\n",
       "3996    Çok şey istiyorum ama sonu hep fiyasko MUTSUZUM   üzgün\n",
       "3997  Garip bir şekilde canım çok yanıyor moralim bozuk   üzgün\n",
       "3998  Üzgünüm birazdan takipten çıkarıp hesabımı giz...   üzgün\n",
       "\n",
       "[3999 rows x 2 columns]>"
      ]
     },
     "execution_count": 3,
     "metadata": {},
     "output_type": "execute_result"
    }
   ],
   "source": [
    "veriler = pd.read_excel(\"TurkishTweets.xlsx\")\n",
    "veriler.head"
   ]
  },
  {
   "cell_type": "code",
   "execution_count": 4,
   "id": "e135053d-687f-4467-86bf-5ce2071a7825",
   "metadata": {},
   "outputs": [
    {
     "data": {
      "text/plain": [
       "'Tuncelide helikopter kazasında kaybettiğimiz şehitlerimize Allahtan rahmet dilerim, Büyük acı Işıklar içinde yatsınlar Başımız sağolsun '"
      ]
     },
     "execution_count": 4,
     "metadata": {},
     "output_type": "execute_result"
    }
   ],
   "source": [
    "veriler[\"Tweet\"][3430] #Deneme verisi"
   ]
  },
  {
   "cell_type": "code",
   "execution_count": 5,
   "id": "acc665ab-412e-4453-95b6-e719142d6053",
   "metadata": {},
   "outputs": [
    {
     "data": {
      "text/plain": [
       "'tuncelid helikopt kazasında kaybettiğimiz şehitlerim allahtan rahmet dilerim büyük acı işıklar içind yatsınlar başımız sağolsun'"
      ]
     },
     "execution_count": 5,
     "metadata": {},
     "output_type": "execute_result"
    }
   ],
   "source": [
    "#Veriyi düzenleme işlemi\n",
    "yorum = re.sub('[^a-zA-Z0-9ğüşöçıİĞÜŞÖÇ]',' ', veriler[\"Tweet\"][3430])\n",
    "yorum = yorum.lower()\n",
    "yorum = yorum.split()\n",
    "ps = PorterStemmer()\n",
    "yorum = [ps.stem(kelime) for kelime in yorum if not kelime in set(stopwords.words(\"turkish\"))]\n",
    "yorum = ' '.join(yorum)\n",
    "yorum"
   ]
  },
  {
   "cell_type": "code",
   "execution_count": 6,
   "id": "c043ba11-2707-4496-837f-48b5f77fa370",
   "metadata": {},
   "outputs": [],
   "source": [
    "#Tüm verileri düzenleme işlemi yapılıyor\n",
    "derlem = []\n",
    "\n",
    "for i in range (3999):\n",
    "    yorum = re.sub('[^a-zA-ZğüşöçıİĞÜŞÖÇ]',' ', veriler[\"Tweet\"][i])\n",
    "    yorum = yorum.lower()\n",
    "    yorum = yorum.split()\n",
    "    ps = PorterStemmer()\n",
    "    yorum = [ps.stem(kelime) for kelime in yorum if not kelime in set(stopwords.words(\"turkish\"))]\n",
    "    yorum = ' '.join(yorum)\n",
    "    # print(i)\n",
    "    derlem.append(yorum)"
   ]
  },
  {
   "cell_type": "code",
   "execution_count": 7,
   "id": "02310a90-625a-4d7e-9977-c513a86a301b",
   "metadata": {},
   "outputs": [],
   "source": [
    "#2500 kelimeyi içeren vir vektör oluşruema işlemi.\n",
    "cv = CountVectorizer(max_features=2500)\n",
    "x = cv.fit_transform(derlem).toarray()\n",
    "y = veriler.iloc[:,1].values\n",
    "\n",
    "x_train , x_test , y_train , y_test = train_test_split(x,y,test_size=0.33,random_state=0)"
   ]
  },
  {
   "cell_type": "code",
   "execution_count": 8,
   "id": "86cc5f1d-0cdf-41d7-ad65-bd6b5584faec",
   "metadata": {},
   "outputs": [
    {
     "data": {
      "text/plain": [
       "array([[249,   1,   3,   3,   7],\n",
       "       [  0, 274,   0,   1,   3],\n",
       "       [  1,   3, 239,   2,   5],\n",
       "       [  0,   1,   2, 240,   1],\n",
       "       [  0,   0,   8,   4, 273]], dtype=int64)"
      ]
     },
     "execution_count": 8,
     "metadata": {},
     "output_type": "execute_result"
    }
   ],
   "source": [
    "svc = SVC(kernel=\"rbf\") #Kernel kullanılacak olan fonk. seçimi yapılması işlemi.\n",
    "svc.fit(x_train,y_train)\n",
    "\n",
    "y_pred_svc = svc.predict(x_test)\n",
    "cm = confusion_matrix(y_test,y_pred_svc)\n",
    "cm"
   ]
  },
  {
   "cell_type": "code",
   "execution_count": 9,
   "id": "ea29bd08-d4c9-40ec-afe8-fae6a0b86d5e",
   "metadata": {},
   "outputs": [
    {
     "data": {
      "text/plain": [
       "array(['surpriz', 'korku', 'surpriz', ..., 'kızgın', 'kızgın', 'üzgün'],\n",
       "      dtype=object)"
      ]
     },
     "execution_count": 9,
     "metadata": {},
     "output_type": "execute_result"
    }
   ],
   "source": [
    "y_pred_svc"
   ]
  },
  {
   "cell_type": "code",
   "execution_count": 10,
   "id": "1538da3f-cb89-4b81-8256-b55761f45a8b",
   "metadata": {},
   "outputs": [
    {
     "data": {
      "text/plain": [
       "0.9659090909090909"
      ]
     },
     "execution_count": 10,
     "metadata": {},
     "output_type": "execute_result"
    }
   ],
   "source": [
    "accuracy = accuracy_score(y_test,y_pred_svc)\n",
    "accuracy"
   ]
  }
 ],
 "metadata": {
  "kernelspec": {
   "display_name": "Python 3 (ipykernel)",
   "language": "python",
   "name": "python3"
  },
  "language_info": {
   "codemirror_mode": {
    "name": "ipython",
    "version": 3
   },
   "file_extension": ".py",
   "mimetype": "text/x-python",
   "name": "python",
   "nbconvert_exporter": "python",
   "pygments_lexer": "ipython3",
   "version": "3.12.4"
  }
 },
 "nbformat": 4,
 "nbformat_minor": 5
}
