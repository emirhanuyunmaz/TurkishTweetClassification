{
 "cells": [
  {
   "cell_type": "code",
   "execution_count": 14,
   "id": "8b4ea14d-b8ab-41be-9538-e235414c15b6",
   "metadata": {},
   "outputs": [],
   "source": [
    "import numpy as np \n",
    "import pandas as pd\n",
    "import re\n",
    "import nltk\n",
    "from sklearn.feature_extraction.text import CountVectorizer\n",
    "\n",
    "from nltk.stem.porter import PorterStemmer\n",
    "import matplotlib.pyplot as plt\n",
    "from sklearn.model_selection import train_test_split\n",
    "from sklearn.preprocessing import StandardScaler\n",
    "from sklearn.metrics import confusion_matrix\n",
    "from sklearn.neighbors import KNeighborsClassifier"
   ]
  },
  {
   "cell_type": "code",
   "execution_count": 6,
   "id": "b3064639-ecfe-4e0b-9ac9-561b18b69dc4",
   "metadata": {},
   "outputs": [
    {
     "name": "stderr",
     "output_type": "stream",
     "text": [
      "[nltk_data] Downloading package stopwords to\n",
      "[nltk_data]     C:\\Users\\emirh\\AppData\\Roaming\\nltk_data...\n",
      "[nltk_data]   Package stopwords is already up-to-date!\n"
     ]
    }
   ],
   "source": [
    "durma = nltk.download(\"stopwords\")\n",
    "from nltk.corpus import stopwords"
   ]
  },
  {
   "cell_type": "code",
   "execution_count": 7,
   "id": "a60fe5e3-4271-442b-aa0c-18713562a771",
   "metadata": {},
   "outputs": [
    {
     "data": {
      "text/plain": [
       "<bound method NDFrame.head of                                                   Tweet  Etiket\n",
       "0     Allah'ım çıldıracağım. Yemin ederim çıldıracağ...  kızgın\n",
       "1     site ne zaman çalıştıda ürün stokları bitti di...  kızgın\n",
       "2       Sebebi neydi ki diye bağıracağım şimdi az kaldı  kızgın\n",
       "3     Black friday ne amk bu yıl çıkardınız bu bokud...  kızgın\n",
       "4     kısa kısa cevaplar vericeksen niye yazıyorsun ...  kızgın\n",
       "...                                                 ...     ...\n",
       "3994                    Aynı şeyleri yapmaktan sıkıldım   üzgün\n",
       "3995  Olacağı varsa oluyor ya hani, biteceği varsa d...   üzgün\n",
       "3996    Çok şey istiyorum ama sonu hep fiyasko MUTSUZUM   üzgün\n",
       "3997  Garip bir şekilde canım çok yanıyor moralim bozuk   üzgün\n",
       "3998  Üzgünüm birazdan takipten çıkarıp hesabımı giz...   üzgün\n",
       "\n",
       "[3999 rows x 2 columns]>"
      ]
     },
     "execution_count": 7,
     "metadata": {},
     "output_type": "execute_result"
    }
   ],
   "source": [
    "veriler = pd.read_excel(\"TurkishTweets.xlsx\")\n",
    "veriler.head"
   ]
  },
  {
   "cell_type": "code",
   "execution_count": 8,
   "id": "4d7d7626-c2cc-4850-9b89-0efb402f92a6",
   "metadata": {},
   "outputs": [
    {
     "data": {
      "text/plain": [
       "'Tuncelide helikopter kazasında kaybettiğimiz şehitlerimize Allahtan rahmet dilerim, Büyük acı Işıklar içinde yatsınlar Başımız sağolsun '"
      ]
     },
     "execution_count": 8,
     "metadata": {},
     "output_type": "execute_result"
    }
   ],
   "source": [
    "veriler[\"Tweet\"][3430] #Deneme verisi"
   ]
  },
  {
   "cell_type": "code",
   "execution_count": 11,
   "id": "d3435246-9e21-4a18-ad8e-3602944f1b51",
   "metadata": {},
   "outputs": [
    {
     "data": {
      "text/plain": [
       "'tuncelid helikopt kazasında kaybettiğimiz şehitlerim allahtan rahmet dilerim büyük acı işıklar içind yatsınlar başımız sağolsun'"
      ]
     },
     "execution_count": 11,
     "metadata": {},
     "output_type": "execute_result"
    }
   ],
   "source": [
    "#Veriyi düzenleme işlemi\n",
    "yorum = re.sub('[^a-zA-Z0-9ğüşöçıİĞÜŞÖÇ]',' ', veriler[\"Tweet\"][3430])\n",
    "yorum = yorum.lower()\n",
    "yorum = yorum.split()\n",
    "ps = PorterStemmer()\n",
    "yorum = [ps.stem(kelime) for kelime in yorum if not kelime in set(stopwords.words(\"turkish\"))]\n",
    "yorum = ' '.join(yorum)\n",
    "yorum"
   ]
  },
  {
   "cell_type": "code",
   "execution_count": 12,
   "id": "adb0b632-a62d-497f-9fef-4813a08023cb",
   "metadata": {},
   "outputs": [],
   "source": [
    "#Tüm verileri düzenleme işlemi yapılıyor\n",
    "derlem = []\n",
    "\n",
    "for i in range (3999):\n",
    "    yorum = re.sub('[^a-zA-ZğüşöçıİĞÜŞÖÇ]',' ', veriler[\"Tweet\"][i])\n",
    "    yorum = yorum.lower()\n",
    "    yorum = yorum.split()\n",
    "    ps = PorterStemmer()\n",
    "    yorum = [ps.stem(kelime) for kelime in yorum if not kelime in set(stopwords.words(\"turkish\"))]\n",
    "    yorum = ' '.join(yorum)\n",
    "    # print(i)\n",
    "    derlem.append(yorum)"
   ]
  },
  {
   "cell_type": "code",
   "execution_count": 15,
   "id": "517dd962-140a-4863-b90c-317b1afbcc70",
   "metadata": {},
   "outputs": [],
   "source": [
    "#2500 kelimeyi içeren vir vektör oluşruema işlemi.\n",
    "cv = CountVectorizer(max_features=2500)\n",
    "x = cv.fit_transform(derlem).toarray()\n",
    "y = veriler.iloc[:,1].values\n",
    "\n",
    "x_train , x_test , y_train , y_test = train_test_split(x,y,test_size=0.33,random_state=0)"
   ]
  },
  {
   "cell_type": "code",
   "execution_count": 24,
   "id": "49f900e8-a311-4988-bb86-ad87bc3d1948",
   "metadata": {},
   "outputs": [
    {
     "data": {
      "text/plain": [
       "array([[248,   8,   4,   1,   2],\n",
       "       [ 33, 230,   9,   0,   6],\n",
       "       [ 31,  34, 181,   1,   3],\n",
       "       [ 31,  32,  19, 156,   6],\n",
       "       [ 46,  48,  31,   3, 157]], dtype=int64)"
      ]
     },
     "execution_count": 24,
     "metadata": {},
     "output_type": "execute_result"
    }
   ],
   "source": [
    "knn = KNeighborsClassifier(n_neighbors=6,metric=\"minkowski\")#Bakilacak komşu sayısı \"n_neighbors\" belirler.\n",
    "knn.fit(x_train,y_train)\n",
    "y_pred_knn = knn.predict(x_test)\n",
    "cm = confusion_matrix(y_test,y_pred_knn)\n",
    "cm"
   ]
  },
  {
   "cell_type": "code",
   "execution_count": 25,
   "id": "a730931d-85d1-4b4f-a649-79469ff1d7d3",
   "metadata": {},
   "outputs": [
    {
     "data": {
      "text/plain": [
       "array(['mutlu', 'korku', 'mutlu', ..., 'korku', 'kızgın', 'üzgün'],\n",
       "      dtype=object)"
      ]
     },
     "execution_count": 25,
     "metadata": {},
     "output_type": "execute_result"
    }
   ],
   "source": [
    "knn.predict(x_test)"
   ]
  },
  {
   "cell_type": "code",
   "execution_count": null,
   "id": "3d166e1c-104a-40b9-a37e-1c290ae6741d",
   "metadata": {},
   "outputs": [],
   "source": []
  }
 ],
 "metadata": {
  "kernelspec": {
   "display_name": "Python 3 (ipykernel)",
   "language": "python",
   "name": "python3"
  },
  "language_info": {
   "codemirror_mode": {
    "name": "ipython",
    "version": 3
   },
   "file_extension": ".py",
   "mimetype": "text/x-python",
   "name": "python",
   "nbconvert_exporter": "python",
   "pygments_lexer": "ipython3",
   "version": "3.12.4"
  }
 },
 "nbformat": 4,
 "nbformat_minor": 5
}
