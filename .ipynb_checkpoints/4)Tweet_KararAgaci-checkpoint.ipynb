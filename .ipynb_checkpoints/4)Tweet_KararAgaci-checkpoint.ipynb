{
 "cells": [
  {
   "cell_type": "code",
   "execution_count": 1,
   "id": "9a7d9a50-1773-4024-9198-63497c12a52b",
   "metadata": {},
   "outputs": [],
   "source": [
    "import pandas as pd\n",
    "\n",
    "from sklearn.model_selection import train_test_split\n",
    "from sklearn.metrics import confusion_matrix\n",
    "from sklearn.preprocessing import StandardScaler\n",
    "from sklearn.tree import DecisionTreeClassifier\n",
    "\n",
    "import re\n",
    "import nltk\n",
    "from sklearn.feature_extraction.text import CountVectorizer\n",
    "from nltk.stem.porter import PorterStemmer\n",
    "from sklearn.metrics import accuracy_score\n"
   ]
  },
  {
   "cell_type": "code",
   "execution_count": 2,
   "id": "03e7c0d3-27cf-4f2a-9ef4-7df2a0278c2e",
   "metadata": {},
   "outputs": [
    {
     "name": "stderr",
     "output_type": "stream",
     "text": [
      "[nltk_data] Downloading package stopwords to\n",
      "[nltk_data]     C:\\Users\\emirh\\AppData\\Roaming\\nltk_data...\n",
      "[nltk_data]   Package stopwords is already up-to-date!\n"
     ]
    }
   ],
   "source": [
    "durma = nltk.download(\"stopwords\")\n",
    "from nltk.corpus import stopwords"
   ]
  },
  {
   "cell_type": "code",
   "execution_count": 3,
   "id": "2fe1ab56-9a01-4d34-b0c6-b150c5ab42bb",
   "metadata": {},
   "outputs": [
    {
     "data": {
      "text/plain": [
       "<bound method NDFrame.head of                                                   Tweet  Etiket\n",
       "0     Allah'ım çıldıracağım. Yemin ederim çıldıracağ...  kızgın\n",
       "1     site ne zaman çalıştıda ürün stokları bitti di...  kızgın\n",
       "2       Sebebi neydi ki diye bağıracağım şimdi az kaldı  kızgın\n",
       "3     Black friday ne amk bu yıl çıkardınız bu bokud...  kızgın\n",
       "4     kısa kısa cevaplar vericeksen niye yazıyorsun ...  kızgın\n",
       "...                                                 ...     ...\n",
       "3994                    Aynı şeyleri yapmaktan sıkıldım   üzgün\n",
       "3995  Olacağı varsa oluyor ya hani, biteceği varsa d...   üzgün\n",
       "3996    Çok şey istiyorum ama sonu hep fiyasko MUTSUZUM   üzgün\n",
       "3997  Garip bir şekilde canım çok yanıyor moralim bozuk   üzgün\n",
       "3998  Üzgünüm birazdan takipten çıkarıp hesabımı giz...   üzgün\n",
       "\n",
       "[3999 rows x 2 columns]>"
      ]
     },
     "execution_count": 3,
     "metadata": {},
     "output_type": "execute_result"
    }
   ],
   "source": [
    "veriler = pd.read_excel(\"TurkishTweets.xlsx\")\n",
    "veriler.head"
   ]
  },
  {
   "cell_type": "code",
   "execution_count": 4,
   "id": "7830f9fe-95c7-4077-8b85-5a2556f3bb60",
   "metadata": {},
   "outputs": [
    {
     "data": {
      "text/plain": [
       "'Tuncelide helikopter kazasında kaybettiğimiz şehitlerimize Allahtan rahmet dilerim, Büyük acı Işıklar içinde yatsınlar Başımız sağolsun '"
      ]
     },
     "execution_count": 4,
     "metadata": {},
     "output_type": "execute_result"
    }
   ],
   "source": [
    "veriler[\"Tweet\"][3430] #Deneme verisi"
   ]
  },
  {
   "cell_type": "code",
   "execution_count": 5,
   "id": "14c114e1-4d09-45ac-ae6c-d7fc2b18bebf",
   "metadata": {},
   "outputs": [
    {
     "data": {
      "text/plain": [
       "'tuncelid helikopt kazasında kaybettiğimiz şehitlerim allahtan rahmet dilerim büyük acı işıklar içind yatsınlar başımız sağolsun'"
      ]
     },
     "execution_count": 5,
     "metadata": {},
     "output_type": "execute_result"
    }
   ],
   "source": [
    "#Veriyi düzenleme işlemi\n",
    "yorum = re.sub('[^a-zA-Z0-9ğüşöçıİĞÜŞÖÇ]',' ', veriler[\"Tweet\"][3430])\n",
    "yorum = yorum.lower()\n",
    "yorum = yorum.split()\n",
    "ps = PorterStemmer()\n",
    "yorum = [ps.stem(kelime) for kelime in yorum if not kelime in set(stopwords.words(\"turkish\"))]\n",
    "yorum = ' '.join(yorum)\n",
    "yorum"
   ]
  },
  {
   "cell_type": "code",
   "execution_count": 6,
   "id": "064593a1-bcbc-4a18-a545-23e32b2b17f4",
   "metadata": {},
   "outputs": [],
   "source": [
    "#Tüm verileri düzenleme işlemi yapılıyor\n",
    "derlem = []\n",
    "\n",
    "for i in range (3999):\n",
    "    yorum = re.sub('[^a-zA-ZğüşöçıİĞÜŞÖÇ]',' ', veriler[\"Tweet\"][i])\n",
    "    yorum = yorum.lower()\n",
    "    yorum = yorum.split()\n",
    "    ps = PorterStemmer()\n",
    "    yorum = [ps.stem(kelime) for kelime in yorum if not kelime in set(stopwords.words(\"turkish\"))]\n",
    "    yorum = ' '.join(yorum)\n",
    "    # print(i)\n",
    "    derlem.append(yorum)"
   ]
  },
  {
   "cell_type": "code",
   "execution_count": 7,
   "id": "34ef841b-4646-415a-9cab-1eee673baa50",
   "metadata": {},
   "outputs": [],
   "source": [
    "#2500 kelimeyi içeren vir vektör oluşruema işlemi.\n",
    "cv = CountVectorizer(max_features=2500)\n",
    "x = cv.fit_transform(derlem).toarray()\n",
    "y = veriler.iloc[:,1].values\n",
    "\n",
    "x_train , x_test , y_train , y_test = train_test_split(x,y,test_size=0.33,random_state=0)"
   ]
  },
  {
   "cell_type": "code",
   "execution_count": 8,
   "id": "28a1ab31-d90a-4283-a758-d3c3a0599a68",
   "metadata": {},
   "outputs": [
    {
     "data": {
      "text/plain": [
       "array([[259,   0,   1,   0,   3],\n",
       "       [  2, 271,   1,   2,   2],\n",
       "       [  5,   3, 236,   0,   6],\n",
       "       [  3,   1,   3, 235,   2],\n",
       "       [ 14,   7,  17,   2, 245]], dtype=int64)"
      ]
     },
     "execution_count": 8,
     "metadata": {},
     "output_type": "execute_result"
    }
   ],
   "source": [
    "#Model eğitimi işlemi\n",
    "dtc = DecisionTreeClassifier(criterion=\"entropy\")\n",
    "dtc.fit(x_train,y_train)\n",
    "\n",
    "y_pred_dtc = dtc.predict(x_test)\n",
    "\n",
    "cm = confusion_matrix(y_test,y_pred_dtc)\n",
    "cm\n"
   ]
  },
  {
   "cell_type": "code",
   "execution_count": 10,
   "id": "34759067-165a-4b1e-8d53-1681205e8190",
   "metadata": {},
   "outputs": [
    {
     "data": {
      "text/plain": [
       "0.943939393939394"
      ]
     },
     "execution_count": 10,
     "metadata": {},
     "output_type": "execute_result"
    }
   ],
   "source": [
    "accuracy = accuracy_score(y_test,y_pred_dtc)\n",
    "accuracy"
   ]
  },
  {
   "cell_type": "code",
   "execution_count": null,
   "id": "64146ac8-6acf-40f6-b479-5e36d6b99ee8",
   "metadata": {},
   "outputs": [],
   "source": []
  }
 ],
 "metadata": {
  "kernelspec": {
   "display_name": "Python 3 (ipykernel)",
   "language": "python",
   "name": "python3"
  },
  "language_info": {
   "codemirror_mode": {
    "name": "ipython",
    "version": 3
   },
   "file_extension": ".py",
   "mimetype": "text/x-python",
   "name": "python",
   "nbconvert_exporter": "python",
   "pygments_lexer": "ipython3",
   "version": "3.12.4"
  }
 },
 "nbformat": 4,
 "nbformat_minor": 5
}
