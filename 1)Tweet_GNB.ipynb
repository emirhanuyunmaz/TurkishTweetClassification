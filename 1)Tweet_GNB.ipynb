{
 "cells": [
  {
   "cell_type": "code",
   "execution_count": 1,
   "id": "6bffe20f-20fe-44ee-ac90-1d8292101ee8",
   "metadata": {},
   "outputs": [],
   "source": [
    "import numpy as np \n",
    "import pandas as pd\n",
    "import re\n",
    "import nltk\n",
    "from nltk.stem.porter import PorterStemmer\n",
    "from sklearn.feature_extraction.text import CountVectorizer\n",
    "from sklearn.model_selection import train_test_split\n",
    "from sklearn.naive_bayes import GaussianNB\n",
    "from sklearn.metrics import confusion_matrix\n",
    "from sklearn.impute import SimpleImputer\n",
    "from sklearn.metrics import accuracy_score\n"
   ]
  },
  {
   "cell_type": "code",
   "execution_count": 2,
   "id": "aacd3082-c954-4bf2-8ced-a65a3469b22e",
   "metadata": {},
   "outputs": [
    {
     "name": "stderr",
     "output_type": "stream",
     "text": [
      "[nltk_data] Downloading package stopwords to\n",
      "[nltk_data]     C:\\Users\\emirh\\AppData\\Roaming\\nltk_data...\n",
      "[nltk_data]   Package stopwords is already up-to-date!\n"
     ]
    }
   ],
   "source": [
    "durma = nltk.download(\"stopwords\")\n",
    "from nltk.corpus import stopwords"
   ]
  },
  {
   "cell_type": "code",
   "execution_count": 3,
   "id": "cfc6719e-e5d8-435f-98d5-4232bb0203c0",
   "metadata": {
    "scrolled": true
   },
   "outputs": [
    {
     "data": {
      "text/plain": [
       "<bound method NDFrame.head of                                                   Tweet  Etiket\n",
       "0     Allah'ım çıldıracağım. Yemin ederim çıldıracağ...  kızgın\n",
       "1     site ne zaman çalıştıda ürün stokları bitti di...  kızgın\n",
       "2       Sebebi neydi ki diye bağıracağım şimdi az kaldı  kızgın\n",
       "3     Black friday ne amk bu yıl çıkardınız bu bokud...  kızgın\n",
       "4     kısa kısa cevaplar vericeksen niye yazıyorsun ...  kızgın\n",
       "...                                                 ...     ...\n",
       "3994                    Aynı şeyleri yapmaktan sıkıldım   üzgün\n",
       "3995  Olacağı varsa oluyor ya hani, biteceği varsa d...   üzgün\n",
       "3996    Çok şey istiyorum ama sonu hep fiyasko MUTSUZUM   üzgün\n",
       "3997  Garip bir şekilde canım çok yanıyor moralim bozuk   üzgün\n",
       "3998  Üzgünüm birazdan takipten çıkarıp hesabımı giz...   üzgün\n",
       "\n",
       "[3999 rows x 2 columns]>"
      ]
     },
     "execution_count": 3,
     "metadata": {},
     "output_type": "execute_result"
    }
   ],
   "source": [
    "veriler = pd.read_excel(\"TurkishTweets.xlsx\")\n",
    "veriler.head"
   ]
  },
  {
   "cell_type": "code",
   "execution_count": 4,
   "id": "3ae7bca8-41a8-4ff7-ae3e-f31cbd86be9d",
   "metadata": {},
   "outputs": [
    {
     "data": {
      "text/plain": [
       "'Tuncelide helikopter kazasında kaybettiğimiz şehitlerimize Allahtan rahmet dilerim, Büyük acı Işıklar içinde yatsınlar Başımız sağolsun '"
      ]
     },
     "execution_count": 4,
     "metadata": {},
     "output_type": "execute_result"
    }
   ],
   "source": [
    "veriler[\"Tweet\"][3430] #Deneme verisi"
   ]
  },
  {
   "cell_type": "code",
   "execution_count": 5,
   "id": "f556199b-066b-43d7-825d-cd46317b5e55",
   "metadata": {},
   "outputs": [
    {
     "data": {
      "text/plain": [
       "'tuncelid helikopt kazasında kaybettiğimiz şehitlerim allahtan rahmet dilerim büyük acı işıklar içind yatsınlar başımız sağolsun'"
      ]
     },
     "execution_count": 5,
     "metadata": {},
     "output_type": "execute_result"
    }
   ],
   "source": [
    "#Veriyi düzenleme işlemi\n",
    "yorum = re.sub('[^a-zA-Z0-9ğüşöçıİĞÜŞÖÇ]',' ', veriler[\"Tweet\"][3430]) #Noktalama işaretlerinden arındırma işlemi.\n",
    "yorum = yorum.lower()\n",
    "yorum = yorum.split()\n",
    "ps = PorterStemmer() # Kelimenin kökünü bulma işlemi.\n",
    "yorum = [ps.stem(kelime) for kelime in yorum if not kelime in set(stopwords.words(\"turkish\"))]\n",
    "yorum = ' '.join(yorum)\n",
    "yorum"
   ]
  },
  {
   "cell_type": "code",
   "execution_count": 6,
   "id": "3abc7e53-0660-4b7b-9da2-17c14be6308e",
   "metadata": {},
   "outputs": [],
   "source": [
    "#Tüm verileri düzenleme işlemi yapılıyor\n",
    "derlem = []\n",
    "\n",
    "for i in range (3999):\n",
    "    yorum = re.sub('[^a-zA-ZğüşöçıİĞÜŞÖÇ]',' ', veriler[\"Tweet\"][i])\n",
    "    yorum = yorum.lower()\n",
    "    yorum = yorum.split()\n",
    "    ps = PorterStemmer()\n",
    "    yorum = [ps.stem(kelime) for kelime in yorum if not kelime in set(stopwords.words(\"turkish\"))]\n",
    "    yorum = ' '.join(yorum)\n",
    "    # print(i)\n",
    "    derlem.append(yorum)"
   ]
  },
  {
   "cell_type": "code",
   "execution_count": 7,
   "id": "d2531d9d-2b34-4588-ac9c-9cf94da2dde4",
   "metadata": {},
   "outputs": [],
   "source": [
    "#2500 kelimeyi içeren vir vektör oluşruema işlemi.\n",
    "cv = CountVectorizer(max_features=2500)\n",
    "x = cv.fit_transform(derlem).toarray()\n",
    "y = veriler.iloc[:,1].values\n",
    "\n",
    "x_train , x_test , y_train , y_test = train_test_split(x,y,test_size=0.33,random_state=0)"
   ]
  },
  {
   "cell_type": "code",
   "execution_count": 8,
   "id": "e67748a3-97af-4eee-a8ef-82d62fef82b3",
   "metadata": {},
   "outputs": [
    {
     "data": {
      "text/plain": [
       "array([[202,   8,   7,  19,  27],\n",
       "       [ 11, 225,   3,  11,  28],\n",
       "       [ 12,  13, 173,  23,  29],\n",
       "       [  9,  10,  13, 194,  18],\n",
       "       [  2,  10,  11,  12, 250]], dtype=int64)"
      ]
     },
     "execution_count": 8,
     "metadata": {},
     "output_type": "execute_result"
    }
   ],
   "source": [
    "gnb = GaussianNB()\n",
    "gnb.fit(x_train,y_train)\n",
    "y_pred = gnb.predict(x_test)\n",
    "cm = confusion_matrix(y_test,y_pred)\n",
    "cm"
   ]
  },
  {
   "cell_type": "code",
   "execution_count": 9,
   "id": "b904c234-9102-4e62-a31a-650a5650b13b",
   "metadata": {},
   "outputs": [
    {
     "data": {
      "text/plain": [
       "array(['mutlu', 'korku', 'surpriz', ..., 'kızgın', 'kızgın', 'üzgün'],\n",
       "      dtype='<U7')"
      ]
     },
     "execution_count": 9,
     "metadata": {},
     "output_type": "execute_result"
    }
   ],
   "source": [
    "gnb.predict(x_test)"
   ]
  },
  {
   "cell_type": "code",
   "execution_count": 10,
   "id": "dfe041ed-c70c-4e03-a455-da6928eab111",
   "metadata": {},
   "outputs": [
    {
     "data": {
      "text/plain": [
       "0.7909090909090909"
      ]
     },
     "execution_count": 10,
     "metadata": {},
     "output_type": "execute_result"
    }
   ],
   "source": [
    "accuracy = accuracy_score(y_test,y_pred)\n",
    "accuracy"
   ]
  }
 ],
 "metadata": {
  "kernelspec": {
   "display_name": "Python 3 (ipykernel)",
   "language": "python",
   "name": "python3"
  },
  "language_info": {
   "codemirror_mode": {
    "name": "ipython",
    "version": 3
   },
   "file_extension": ".py",
   "mimetype": "text/x-python",
   "name": "python",
   "nbconvert_exporter": "python",
   "pygments_lexer": "ipython3",
   "version": "3.12.4"
  }
 },
 "nbformat": 4,
 "nbformat_minor": 5
}
